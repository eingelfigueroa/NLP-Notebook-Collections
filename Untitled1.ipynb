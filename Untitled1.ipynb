{
 "cells": [
  {
   "cell_type": "code",
   "execution_count": 5,
   "metadata": {
    "collapsed": false,
    "jupyter": {
     "outputs_hidden": false
    }
   },
   "outputs": [
    {
     "name": "stdout",
     "output_type": "stream",
     "text": [
      "2422346.3333333335\n"
     ]
    }
   ],
   "source": []
  },
  {
   "cell_type": "markdown",
   "metadata": {},
   "source": [
    "# LIST"
   ]
  },
  {
   "cell_type": "code",
   "execution_count": 7,
   "metadata": {
    "collapsed": false,
    "jupyter": {
     "outputs_hidden": false
    }
   },
   "outputs": [
    {
     "name": "stdout",
     "output_type": "stream",
     "text": [
      "4.166666666666667\n"
     ]
    }
   ],
   "source": [
    "row_1 = ['Facebook', 0.0, 'USD', 2974676, 3.5]\n",
    "row_2 = ['Instagram', 0.0, 'USD', 2161558, 4.5]\n",
    "row_3 = ['Clash of Clans', 0.0, 'USD', 2130805, 4.5]\n",
    "\n",
    "rating_1 = row_1[-1]\n",
    "rating_2 = row_2[-1]\n",
    "rating_3 = row_3[-1]\n",
    "\n",
    "total_rating = rating_1 + rating_2 + rating_3\n",
    "average_rating = total_rating/3\n",
    "\n",
    "print(average_rating)"
   ]
  },
  {
   "cell_type": "markdown",
   "metadata": {},
   "source": [
    "\n",
    "# PosNeg Indexing"
   ]
  },
  {
   "cell_type": "code",
   "execution_count": null,
   "metadata": {
    "collapsed": true,
    "jupyter": {
     "outputs_hidden": true
    }
   },
   "outputs": [],
   "source": [
    "row_1 = ['Facebook', 0.0, 'USD', 2974676, 3.5]\n",
    "row_2 = ['Instagram', 0.0, 'USD', 2161558, 4.5]\n",
    "row_3 = ['Clash of Clans', 0.0, 'USD', 2130805, 4.5]\n",
    "\n",
    "ratings_1 = row_1[3]\n",
    "ratings_2 = row_2[3]\n",
    "ratings_3 = row_3[3]\n",
    "\n",
    "total = ratings_1 + ratings_2 + ratings_3\n",
    "\n",
    "average = total/3\n",
    "print(average)"
   ]
  },
  {
   "cell_type": "markdown",
   "metadata": {},
   "source": [
    "# Retrieving Index"
   ]
  },
  {
   "cell_type": "code",
   "execution_count": null,
   "metadata": {
    "collapsed": true,
    "jupyter": {
     "outputs_hidden": true
    }
   },
   "outputs": [],
   "source": [
    "row_1 = ['Facebook', 0.0, 'USD', 2974676, 3.5]\n",
    "row_2 = ['Instagram', 0.0, 'USD', 2161558, 4.5]\n",
    "row_3 = ['Clash of Clans', 0.0, 'USD', 2130805, 4.5]\n",
    "row_4 = ['Temple Run', 0.0, 'USD', 1724546, 4.5]\n",
    "row_5 = ['Pandora - Music & Radio', 0.0, 'USD', 1126879, 4.0]\n",
    "\n",
    "fb_rating_data = [row_1[0], row_1[3],row_1[-1]]\n",
    "insta_rating_data = [row_2[0], row_2[3],row_2[-1]]\n",
    "pandora_rating_data = [row_5[0], row_5[3],row_5[-1]]\n",
    "\n",
    "avg_rating = (fb_rating_data[2] + insta_rating_data[2] + pandora_rating_data[2]) /3\n"
   ]
  },
  {
   "cell_type": "markdown",
   "metadata": {},
   "source": [
    "# List Slicing"
   ]
  },
  {
   "cell_type": "code",
   "execution_count": 9,
   "metadata": {
    "collapsed": true,
    "jupyter": {
     "outputs_hidden": true
    }
   },
   "outputs": [],
   "source": [
    "row_1 = ['Facebook', 0.0, 'USD', 2974676, 3.5]\n",
    "row_2 = ['Instagram', 0.0, 'USD', 2161558, 4.5]\n",
    "row_3 = ['Clash of Clans', 0.0, 'USD', 2130805, 4.5]\n",
    "row_4 = ['Temple Run', 0.0, 'USD', 1724546, 4.5]\n",
    "row_5 = ['Pandora - Music & Radio', 0.0, 'USD', 1126879, 4.0]\n",
    "\n",
    "first_4_fb = row_1[:4] # first 4\n",
    "last_3_fb = row_1[-3:] # last 3\n",
    "pandora_3_4 = row_5[2:4] #[m:n] n is the index number of the last element, then plus one"
   ]
  },
  {
   "cell_type": "markdown",
   "metadata": {},
   "source": [
    "\n",
    "# Data set retrieval"
   ]
  },
  {
   "cell_type": "code",
   "execution_count": null,
   "metadata": {
    "collapsed": true,
    "jupyter": {
     "outputs_hidden": true
    }
   },
   "outputs": [],
   "source": [
    "row_1 = ['Facebook', 0.0, 'USD', 2974676, 3.5]\n",
    "row_2 = ['Instagram', 0.0, 'USD', 2161558, 4.5]\n",
    "row_3 = ['Clash of Clans', 0.0, 'USD', 2130805, 4.5]\n",
    "row_4 = ['Temple Run', 0.0, 'USD', 1724546, 4.5]\n",
    "row_5 = ['Pandora - Music & Radio', 0.0, 'USD', 1126879, 4.0]\n",
    "\n",
    "app_data_set = [row_1, row_2, row_3, row_4, row_5]\n",
    "##dataset[array][array_index]\n",
    "avg_rating = (app_data_set[0][-1] + app_data_set[1][-1] +\n",
    "              app_data_set[2][-1] + app_data_set[3][-1] +\n",
    "              app_data_set[4][-1])/5"
   ]
  },
  {
   "cell_type": "markdown",
   "metadata": {},
   "source": [
    "# File Retrieval"
   ]
  },
  {
   "cell_type": "code",
   "execution_count": 14,
   "metadata": {
    "collapsed": false,
    "jupyter": {
     "outputs_hidden": false
    }
   },
   "outputs": [
    {
     "name": "stdout",
     "output_type": "stream",
     "text": [
      "1311\n",
      "['pclass', 'survived', 'name', 'sex', 'age', 'sibsp', 'parch', 'ticket', 'fare', 'cabin', 'embarked', '', '', '']\n",
      "[['1', '1', 'Allen, Miss. Elisabeth Walton', 'female', '29', '0', '0', '24160', '211.3375', 'B5', 'S', '', '', ''], ['1', '1', 'Allison, Master. Hudson Trevor', 'male', '0.9167', '1', '2', '113781', '151.5500', 'C22 C26', 'S', '', '', '']]\n"
     ]
    }
   ],
   "source": [
    "from csv import reader\n",
    "\n",
    "opened_file = open('/resources/data/titanic3.csv')\n",
    "read_file = reader(opened_file)\n",
    "apps_data = list(read_file)\n",
    "\n",
    "print(len(apps_data))\n",
    "print(apps_data[0])\n",
    "print(apps_data[1:3])"
   ]
  },
  {
   "cell_type": "markdown",
   "metadata": {},
   "source": [
    "# For loop"
   ]
  },
  {
   "cell_type": "code",
   "execution_count": 16,
   "metadata": {
    "collapsed": false,
    "jupyter": {
     "outputs_hidden": false
    }
   },
   "outputs": [
    {
     "name": "stdout",
     "output_type": "stream",
     "text": [
      "['Facebook', 0.0, 'USD', 2974676, 3.5]\n",
      "3.5\n",
      "['Instagram', 0.0, 'USD', 2161558, 4.5]\n",
      "4.5\n",
      "['Clash of Clans', 0.0, 'USD', 2130805, 4.5]\n",
      "4.5\n",
      "['Temple Run', 0.0, 'USD', 1724546, 4.5]\n",
      "4.5\n",
      "['Pandora - Music & Radio', 0.0, 'USD', 1126879, 4.0]\n",
      "4.0\n"
     ]
    }
   ],
   "source": [
    "row_1 = ['Facebook', 0.0, 'USD', 2974676, 3.5]\n",
    "row_2 = ['Instagram', 0.0, 'USD', 2161558, 4.5]\n",
    "row_3 = ['Clash of Clans', 0.0, 'USD', 2130805, 4.5]\n",
    "row_4 = ['Temple Run', 0.0, 'USD', 1724546, 4.5]\n",
    "row_5 = ['Pandora - Music & Radio', 0.0, 'USD', 1126879, 4.0]\n",
    "\n",
    "app_data_set = [row_1, row_2, row_3, row_4, row_5]\n",
    "\n",
    "for each_list in app_data_set:\n",
    "    print(each_list)\n",
    "    print(each_list[-1])"
   ]
  },
  {
   "cell_type": "markdown",
   "metadata": {},
   "source": [
    "# For loop in dataset and list"
   ]
  },
  {
   "cell_type": "code",
   "execution_count": null,
   "metadata": {
    "collapsed": true,
    "jupyter": {
     "outputs_hidden": true
    }
   },
   "outputs": [],
   "source": [
    "row_1 = ['Facebook', 0.0, 'USD', 2974676, 3.5]\n",
    "row_2 = ['Instagram', 0.0, 'USD', 2161558, 4.5]\n",
    "row_3 = ['Clash of Clans', 0.0, 'USD', 2130805, 4.5]\n",
    "row_4 = ['Temple Run', 0.0, 'USD', 1724546, 4.5]\n",
    "row_5 = ['Pandora - Music & Radio', 0.0, 'USD', 1126879, 4.0]\n",
    "\n",
    "app_data_set = [row_1, row_2, row_3, row_4, row_5]\n",
    "\n",
    "rating_sum = 0\n",
    "\n",
    "for rating in app_data_set:\n",
    "    rating_sum = rating[-1] + rating_sum\n",
    "\n",
    "avg_rating = rating_sum/len(app_data_set)\n",
    "print(avg_rating)"
   ]
  },
  {
   "cell_type": "code",
   "execution_count": null,
   "metadata": {
    "collapsed": true,
    "jupyter": {
     "outputs_hidden": true
    }
   },
   "outputs": [],
   "source": []
  },
  {
   "cell_type": "code",
   "execution_count": null,
   "metadata": {
    "collapsed": true,
    "jupyter": {
     "outputs_hidden": true
    }
   },
   "outputs": [],
   "source": [
    "opened_file = open('AppleStore.csv')\n",
    "from csv import reader\n",
    "read_file = reader(opened_file)\n",
    "apps_data = list(read_file)\n",
    "\n",
    "rating_sum = 0\n",
    "\n",
    "for row in apps_data[1:]:\n",
    "    rating = float(row[7])\n",
    "    rating_sum = rating + rating_sum\n",
    "\n",
    "avg_rating = rating_sum/len(apps_data[1:])\n"
   ]
  }
 ],
 "metadata": {
  "kernelspec": {
   "display_name": "Python",
   "language": "python",
   "name": "conda-env-python-py"
  },
  "language_info": {
   "codemirror_mode": {
    "name": "ipython",
    "version": 3
   },
   "file_extension": ".py",
   "mimetype": "text/x-python",
   "name": "python",
   "nbconvert_exporter": "python",
   "pygments_lexer": "ipython3",
   "version": "3.6.11"
  },
  "widgets": {
   "state": {},
   "version": "1.1.2"
  }
 },
 "nbformat": 4,
 "nbformat_minor": 4
}
