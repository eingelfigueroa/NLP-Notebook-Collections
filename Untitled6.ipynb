{
 "cells": [
  {
   "cell_type": "code",
   "execution_count": 10,
   "metadata": {},
   "outputs": [],
   "source": [
    "import re\n",
    "from vaderSentiment.vaderSentiment import SentimentIntensityAnalyzer\n",
    "from nltk.tokenize import word_tokenize\n",
    "from textblob import TextBlob"
   ]
  },
  {
   "cell_type": "code",
   "execution_count": 11,
   "metadata": {},
   "outputs": [
    {
     "data": {
      "text/plain": [
       "'A good teacher in computer analysis.  continue for being a understanding teacher.  thak you sir..  \\nGood in teaching  \\nA lot needs to be improved  \\nThank you \\nGood, good and very good.  \\nHAPPY NEW YEAR PO SIR AND THANK YOU  \\nSir thank you for understanding us students :)  \\nPROVIDES CHALLENGES OF DIFFERENT VARIETIES  FRIENDLY, WITH SENSE OF HUMOR  \\nFlexible teaching strategies is cool\\nApproachable, supportive and a great motivator \\nMastery of course study is his strong point  \\nVery smart professor  \\nHe has a content and pedadogy oriented  \\nHe is content oriented and mastered the subject matter that he is teaching.  \\n'"
      ]
     },
     "execution_count": 11,
     "metadata": {},
     "output_type": "execute_result"
    }
   ],
   "source": [
    "text = open('T6 test.txt', \"r\", encoding=\"utf-8\")\n",
    "data = text.read()\n",
    "data"
   ]
  },
  {
   "cell_type": "code",
   "execution_count": 12,
   "metadata": {},
   "outputs": [],
   "source": [
    "analyzer = SentimentIntensityAnalyzer()"
   ]
  },
  {
   "cell_type": "code",
   "execution_count": 13,
   "metadata": {},
   "outputs": [
    {
     "name": "stdout",
     "output_type": "stream",
     "text": [
      "neg, 0.031\n",
      "neu, 0.543\n",
      "pos, 0.427\n",
      "compound, 0.9943\n"
     ]
    }
   ],
   "source": [
    "countList = list(analyzer.polarity_scores((data)).items())\n",
    "vs = '\\n'.join([str(i) for i in countList])\n",
    "csvFileFormat = re.sub(\"[)!@''#$(]\", \"\",vs)\n",
    "print(csvFileFormat)\n"
   ]
  },
  {
   "cell_type": "code",
   "execution_count": 14,
   "metadata": {},
   "outputs": [],
   "source": [
    "with open('PolarityT6_test.csv', \"w\") as csvfile:\n",
    "    csvfile.write(\"Polarity,Values\\n\")\n",
    "    csvfile.write(csvFileFormat)"
   ]
  },
  {
   "cell_type": "code",
   "execution_count": 17,
   "metadata": {},
   "outputs": [],
   "source": [
    "filepath = 'T6 test.txt'\n",
    "with open(filepath) as fp:\n",
    "    line = fp.readline()\n",
    "    cnt = 1\n",
    "    fa = open('polarityListT6_test.txt', \"w\")\n",
    "    while line:\n",
    "        data = line.strip()\n",
    "        countList = list(analyzer.polarity_scores((data)).items())\n",
    "        vs = ':'.join([str(i) for i in countList])\n",
    "        fa.write(vs + \"\\n\")\n",
    "        line = fp.readline()\n",
    "        cnt += 1"
   ]
  },
  {
   "cell_type": "code",
   "execution_count": 18,
   "metadata": {},
   "outputs": [
    {
     "data": {
      "text/plain": [
       "' 0.0, 0.828, 0.172, 0.4404\\n 0.0, 0.408, 0.592, 0.4404\\n 0.0, 0.617, 0.383, 0.4767\\n 0.0, 0.286, 0.714, 0.3612\\n 0.0, 0.182, 0.818, 0.8399\\n 0.243, 0.338, 0.419, 0.3818\\n 0.0, 0.522, 0.478, 0.6705\\n 0.0, 0.515, 0.485, 0.6808\\n 0.0, 0.417, 0.583, 0.4939\\n 0.0, 0.388, 0.612, 0.743\\n 0.0, 0.68, 0.32, 0.5106\\n 0.0, 0.401, 0.599, 0.4576\\n 0.0, 1.0, 0.0, 0.0\\n 0.0, 0.916, 0.084, 0.0258\\n'"
      ]
     },
     "execution_count": 18,
     "metadata": {},
     "output_type": "execute_result"
    }
   ],
   "source": [
    "text = open('polarityListT6_test.txt', \"r\")\n",
    "polarity = text.read()\n",
    "Format = re.sub(\"[)!@''#$(pos,neu,neg,compound]\",\"\",polarity)\n",
    "csvFileFormat = re.sub(\":\",\",\",Format)\n",
    "csvFileFormat"
   ]
  },
  {
   "cell_type": "code",
   "execution_count": 20,
   "metadata": {},
   "outputs": [],
   "source": [
    "with open('PolarityListNewT6_test.csv', \"w\") as f:\n",
    "    f.write(\"Negative, Neutral, Positive, Compound\\n\")\n",
    "    f.write(csvFileFormat)"
   ]
  },
  {
   "cell_type": "code",
   "execution_count": 21,
   "metadata": {},
   "outputs": [
    {
     "name": "stdout",
     "output_type": "stream",
     "text": [
      "Polarity,Subjectivity\n",
      "0.382038451744334,0.5707201426024958\n"
     ]
    }
   ],
   "source": [
    "analysis = TextBlob('''Motivate students to achieve goal.  \n",
    "Ability to explain difficult things in a simple way, and creativity and enthusiasm for teaching.  \n",
    "Organization  \n",
    "Mostly highly recommended for all incoming first year IT/CS students.  \n",
    "The best prof for freshmens  \n",
    "Very great at teaching  The professor has nothing to improve because he's the best.  Keep it up sir !  \n",
    "He listens to us and gives us proper instruction, Even made a youtube channel to keep us up in programming.  \n",
    "Thank you very much sir! I salute thee \n",
    "He is approachable and and always assure that his students are learning.  \n",
    "Make his students think more  \n",
    "Sir is very smart even if the students reprimand him. \n",
    "Nothing to be improved  \n",
    "Godbless sir  \n",
    "GOOD IN TEACHING  \n",
    "GOOD IN ADVISING  \n",
    "STAY THE GOOD IMAGE FOR STUDENTS  \n",
    "knew how to handle his student, know what are the capabilities and weakness of his student. very considerate professor.  \n",
    "just be strict sometimes.  \n",
    "great teacher ever  \n",
    "by Explaining the topic  \n",
    "always patient to entertain his student's.  \n",
    "nothing. Just continue what he is now  \n",
    "nice professor.  \n",
    "Explaining  \n",
    "Nothing  \n",
    "he is good at teaching    \n",
    "good teacher ....  \n",
    "On point teaching  \n",
    "having more hands on examples in activities  \n",
    "Way of teaching to easy to communicate to the students  \n",
    "to be open and let us to know whats wrong and what is right  \n",
    "professional professor. strongly agree.  \n",
    "He is good when he si advicing us to reach our gouls  \n",
    "He's focusing in our week side  \n",
    "Nice, very nice  \n",
    "He provides an appropriate application of theories and concepts And appritiate student's works and outputs.  \n",
    "The profesor provides the appropriate needs of the students, so I no longer require for any further improvements.  \n",
    "very good when it comes to explaining  \n",
    "nothing hes good already  \n",
    "nothing  \n",
    "Good teaching and explaning  \n",
    "None  \n",
    "Good in speaking and motivating his student also excellent in teaching the program  \n",
    "None  \n",
    "The way he delivers every lesson and the way he teaches the ststudents without pressuring the students.  \n",
    "The way he teach us and the way we cooperate  \n",
    "Theres nothing need to improve  \n",
    "None  \n",
    "Spoon feeding lesson! One of the great teachers!  \n",
    "Thank you sir Lex! :)  \n",
    "all of his traits  \n",
    "none  \n",
    "thank you  \n",
    "He explained clearly  \n",
    "He provide the best way for teaching in a easiest way to understand.  More clearest in terms of providing instructions.  \n",
    "Everything he do is a strong point. But the strongest point he has is the way he teaches the students without any complications and can easily makes his students understand the lesson  So far none.  One of the best professors in the institution  \n",
    "His critical thinking and pleasing personalities  Brand new whiteboard marker  \n",
    "He can utilize and manage the varied way of teaching in his student  \n",
    "Teaching  attendance  nothing  \n",
    "Binibigyan ng kalayaan ang istudyante sa bawat bagay na itinuturo, tinuturan ang istudyante na mag aral sa sariling kakayahan..  \n",
    "Understands his students very well and help them to cope up rather than comparing them to others  \n",
    "Professor exercise freedom on the class. Students reciprocate respect because of the trust and manner of how a college student should be treated.  \n",
    "Being open to students.  Explaining the lesson deeply.  Is a friendly professor.  \n",
    "Going to field for practice..  \n",
    "He pinpoint all the topic that are hard for us to understand  \n",
    "The professor has good humor  \n",
    "Passionate about teaching.  \n",
    "When he teach each topic well  Being friendly  NONE  \n",
    "He explain the lesson clearly  \n",
    "Teaching  Come early sometimes  \n",
    "Very patient and polite.  \n",
    "none  \n",
    "The professor will definitely explain you the lesson over and over until we come to the point that we all understand. \n",
    "A one of a kind professor to have. \n",
    "Very Professional in discussion as he relates the lesson in to real-world.  Level of expectations to students should be balanced. Overall are good.  \n",
    "He doesn't want to explain the lesson further which makes us to listen to him carefully  \n",
    "He answer the questions of the students  less absences  \n",
    "Exaggerates the keywords of the lessons in order to understand a certain topic  None.  \n",
    "The way he talks  None  \n",
    "Passionate about teaching.  \n",
    "The professor definitely explain you the lesson over and over until we come to the point that we all understand. A one of a kind professor to have. \n",
    "Very Professional in discussion as he relates the lesson in to real-world.  Good Professor  \n",
    "Teaching Strategy is his strong point\n",
    "Nothing to improve  \n",
    "He explain the topic very good  less absences  accept effort of the students  \n",
    "When he teach each topic well  Being friendly  none  \n",
    "Speech needs to be improved  \n",
    "Wants the students to learn  \n",
    "Dont need to improve  \n",
    "Good at teaching  \n",
    "He's open to suggestions of his students\n",
    "Please comes to class on time  \n",
    "I learned so much on our class we did  \n",
    "He is Considerate   \n",
    "He explain well the topics  less absences  accept students effort  \n",
    "Nice teacher  \n",
    "Nothing to improved  \n",
    "Good looking  \n",
    "He explain the topics well  \n",
    "Minimized his absences absences  \n",
    "Accept students effort  \n",
    "He has a very strong connection within his students that's why we are eager to learn from his lessons.  \n",
    "He knows what his students needs and where to improve.  \n",
    "I will give him a Perfect score\n",
    "\n",
    "\n",
    "''')\n",
    "List = list(analysis.sentiment)\n",
    "newList = ','.join([str(i) for i in List])\n",
    "print(\"Polarity,Subjectivity\")\n",
    "print(newList)\n"
   ]
  },
  {
   "cell_type": "code",
   "execution_count": 22,
   "metadata": {},
   "outputs": [],
   "source": [
    "with open('Sentiment.csv', \"w\") as f:\n",
    "    f.write(\"Polarity,Subjectivity\\n\")\n",
    "    f.write(newList)"
   ]
  },
  {
   "cell_type": "code",
   "execution_count": 382,
   "metadata": {},
   "outputs": [
    {
     "name": "stdout",
     "output_type": "stream",
     "text": [
      "She's focused on her work and teaching and can teach well\n",
      "0.0,0.0\n",
      "She is patience\n",
      "0.0,0.0\n",
      "She might want to be more friendly, for the students way of thinking that they have to do things carefully because of fear.\n",
      "0.25833333333333336,0.6666666666666666\n",
      "Personality is here strong point\n",
      "0.4333333333333333,0.7333333333333333\n",
      "Handwriting needs to be improved\n",
      "0.0,0.0\n",
      "Treat everyone equally\n",
      "0.0,0.25\n",
      "She discuss that life is important\n",
      "0.4,1.0\n",
      "Always give activities to our class\n",
      "0.0,0.0\n",
      "She imposed discipline in the class\n",
      "0.0,0.0\n",
      "She teach us and gives many example\n",
      "0.5,0.5\n",
      "She can control students when they are noisy or when they are not listening.\n",
      "0.0,0.0\n",
      "Skills in teaching  Communication\n",
      "0.0,0.0\n",
      "Comes to class on time  Teaching\n",
      "0.0,0.0\n",
      "Eager to teach the students\n",
      "0.0,0.0\n",
      "Lecture before the quiz\n",
      "0.0,0.0\n",
      "Does not teach the same lesson in lecture and laboratory of programming Does not teach on how to do the specific task we need to do.\n",
      "0.0,0.125\n",
      "He discus the topic clearly\n",
      "0.10000000000000002,0.3833333333333333\n",
      "Personality is here strong points\n",
      "0.4333333333333333,0.7333333333333333\n",
      "She explain slowly and clearly the lesson about programming\n",
      "-0.1,0.3916666666666666\n",
      "She imposed discipline in the classroom\n",
      "0.0,0.0\n",
      "She is teaching weel and gives many example\n",
      "0.5,0.5\n",
      "My strong points I will gave her 10 or perfect score.\n",
      "0.7166666666666667,0.8666666666666667\n",
      "Please don't  pressure the Late commers. Because The Students to Follow the Lecture if he or she late commer.\n",
      "-0.3,0.6\n",
      "She can control students when they are noisy or when they are not listening.\n",
      "0.0,0.0\n",
      "She has a very good skills in teaching\n",
      "0.9099999999999999,0.7800000000000001\n",
      "She comes to class on time\n",
      "0.0,0.0\n",
      "Implement variety of teaching strategy\n",
      "0.0,0.0\n",
      "Nice and being fair also for being friendly\n",
      "0.5583333333333332,0.7999999999999999\n",
      "Help us to improve.\n",
      "0.0,0.0\n",
      "Thank you for teaching us how to improve and some motivational speech.\n",
      "0.0,0.0\n",
      "She provides clear and detailedinstructions.  Better understanding of what helps students to learn.\n",
      "0.3,0.44166666666666665\n",
      "Teaching the students with ease with proper grammar and enunciation.  To teach the students much longer and to explain much further until the students understands the topic  none\n",
      "0.06666666666666667,0.26666666666666666\n",
      "Her strict personality and bossy persona which makes everyone listen to her\n",
      "0.0,0.0\n",
      "More simulation and explanations please.\n",
      "0.5,0.5\n",
      "If she can make every student understand what she has been teaching, it will be a great help to everyone.\n",
      "0.8,0.75\n",
      "All in all...its ok\n",
      "0.5,0.5\n",
      "Must elaborate the lessons.\n",
      "0.5,1.0\n",
      "Two hours of coding per day which i highly agree with\n",
      "0.16,0.5399999999999999\n",
      "Great explaining techniques\n",
      "0.8,0.75\n",
      "The professor  is kinda scary.\n",
      "-0.5,1.0\n",
      "SHe focuses on the where we are weak subject.  Thank you Mam!\n",
      "-0.29166666666666663,0.47916666666666663\n",
      "She gives us many activities\n",
      "0.5,0.5\n",
      "She needs to improve her teaching skill\n",
      "0.0,0.0\n",
      "Everything needs to be improved\n",
      "0.0,0.0\n",
      "She gives us activities that had strengthened my learning in hiragana characters.\n",
      "0.0,0.0\n",
      "She is also a considerate professor.\n",
      "0.0,0.0\n",
      "Don't be late.\n",
      "-0.3,0.6\n",
      "\n",
      "0.0,0.0\n"
     ]
    }
   ],
   "source": [
    "filepath = \"T9 test.txt\"\n",
    "with open(filepath) as fp:\n",
    "    line = fp.readline()\n",
    "    cnt = 1\n",
    "    with open('SentimentListT9_test.csv', \"w\") as fa:\n",
    "        fa.write(\"Polarity,Subjectivity\\n\")\n",
    "        while line:\n",
    "            data = line.strip()\n",
    "            analysis = TextBlob(data)\n",
    "            print(analysis)\n",
    "            countList = list(analysis.sentiment)\n",
    "            \n",
    "            vs = ','.join([str(i) for i in countList])\n",
    "            fa.write(vs + \"\\n\")\n",
    "            print(vs)\n",
    "            line = fp.readline()\n",
    "            cnt += 1"
   ]
  },
  {
   "cell_type": "code",
   "execution_count": null,
   "metadata": {},
   "outputs": [],
   "source": []
  }
 ],
 "metadata": {
  "kernelspec": {
   "display_name": "Python",
   "language": "python",
   "name": "conda-env-python-py"
  },
  "language_info": {
   "codemirror_mode": {
    "name": "ipython",
    "version": 3
   },
   "file_extension": ".py",
   "mimetype": "text/x-python",
   "name": "python",
   "nbconvert_exporter": "python",
   "pygments_lexer": "ipython3",
   "version": "3.6.11"
  }
 },
 "nbformat": 4,
 "nbformat_minor": 4
}
