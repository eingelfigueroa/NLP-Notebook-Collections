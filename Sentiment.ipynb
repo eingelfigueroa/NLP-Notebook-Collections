{
 "cells": [
  {
   "cell_type": "code",
   "execution_count": 63,
   "metadata": {},
   "outputs": [],
   "source": [
    "import re\n",
    "from vaderSentiment.vaderSentiment import SentimentIntensityAnalyzer\n",
    "from nltk.tokenize import word_tokenize\n",
    "from textblob import TextBlob"
   ]
  },
  {
   "cell_type": "code",
   "execution_count": 80,
   "metadata": {},
   "outputs": [],
   "source": [
    "text = open('T1.txt', \"r\", encoding=\"utf-8\")\n",
    "data = text.read()"
   ]
  },
  {
   "cell_type": "code",
   "execution_count": 65,
   "metadata": {},
   "outputs": [],
   "source": [
    "analyzer = SentimentIntensityAnalyzer()"
   ]
  },
  {
   "cell_type": "code",
   "execution_count": 66,
   "metadata": {},
   "outputs": [
    {
     "name": "stdout",
     "output_type": "stream",
     "text": [
      "neg, 0.044\n",
      "neu, 0.729\n",
      "pos, 0.228\n",
      "compound, 0.9996\n"
     ]
    }
   ],
   "source": [
    "countList = list(analyzer.polarity_scores((data)).items())\n",
    "vs = '\\n'.join([str(i) for i in countList])\n",
    "csvFileFormat = re.sub(\"[)!@''#$(]\", \"\",vs)\n",
    "print(csvFileFormat)"
   ]
  },
  {
   "cell_type": "code",
   "execution_count": 70,
   "metadata": {},
   "outputs": [],
   "source": [
    "with open('Polarity.csv', \"w\") as csvfile:\n",
    "    csvfile.write(\"Polarity,Values\\n\")\n",
    "    csvfile.write(csvFileFormat)"
   ]
  },
  {
   "cell_type": "code",
   "execution_count": 71,
   "metadata": {},
   "outputs": [],
   "source": [
    "filepath = 'T1.txt'\n",
    "with open(filepath) as fp:\n",
    "    line = fp.readline()\n",
    "    cnt = 1\n",
    "    fa = open('polarityList.txt', \"w\")\n",
    "    while line:\n",
    "        data = line.strip()\n",
    "        countList = list(analyzer.polarity_scores((data)).items())\n",
    "        vs = ':'.join([str(i) for i in countList])\n",
    "        fa.write(vs + \"\\n\")\n",
    "        line = fp.readline()\n",
    "        cnt += 1"
   ]
  },
  {
   "cell_type": "code",
   "execution_count": 72,
   "metadata": {},
   "outputs": [],
   "source": [
    "text = open('polarityList.txt', \"r\")\n",
    "polarity = text.read()\n",
    "Format = re.sub(\"[)!@''#$(pos,neu,neg,compound]\",\"\",polarity)\n",
    "csvFileFormat = re.sub(\":\",\",\",Format)\n"
   ]
  },
  {
   "cell_type": "code",
   "execution_count": 73,
   "metadata": {},
   "outputs": [],
   "source": [
    "with open('PolarityListNew.csv', \"w\") as f:\n",
    "    f.write(\"Negative, Neutral, Positive, Compound\\n\")\n",
    "    f.write(csvFileFormat)"
   ]
  },
  {
   "cell_type": "code",
   "execution_count": 82,
   "metadata": {},
   "outputs": [
    {
     "name": "stdout",
     "output_type": "stream",
     "text": [
      "Polarity,Subjectivity\n",
      "0.382038451744334,0.5707201426024958\n"
     ]
    }
   ],
   "source": [
    "analysis = TextBlob(data)\n",
    "List = list(analysis.sentiment)\n",
    "newList = ','.join([str(i) for i in List])\n",
    "print(\"Polarity,Subjectivity\")\n",
    "print(newList)"
   ]
  },
  {
   "cell_type": "code",
   "execution_count": 83,
   "metadata": {},
   "outputs": [],
   "source": [
    "with open('Sentiment.csv', \"w\") as f:\n",
    "    f.write(\"Polarity,Subjectivity\\n\")\n",
    "    f.write(newList)"
   ]
  },
  {
   "cell_type": "code",
   "execution_count": 84,
   "metadata": {},
   "outputs": [
    {
     "name": "stdout",
     "output_type": "stream",
     "text": [
      "0.0,0.0\n",
      "-0.25,0.6785714285714286\n",
      "0.0,0.0\n",
      "0.20500000000000002,0.43666666666666665\n",
      "1.0,0.3\n",
      "1.0,0.6375000000000001\n",
      "0.0,0.1\n",
      "0.325,0.26\n",
      "0.0,0.0\n",
      "0.5,0.5\n",
      "0.2785714285714286,0.8357142857142859\n",
      "0.0,0.0\n",
      "0.0,0.0\n",
      "0.7,0.6000000000000001\n",
      "0.7,0.6000000000000001\n",
      "0.7,0.6000000000000001\n",
      "0.2,0.3\n",
      "0.0,0.0\n",
      "0.8,0.75\n",
      "0.0,0.0\n",
      "0.0,0.0\n",
      "0.0,0.0\n",
      "0.6,1.0\n",
      "0.0,0.0\n",
      "0.0,0.0\n",
      "0.7,0.6000000000000001\n",
      "0.7,0.6000000000000001\n",
      "0.0,0.0\n",
      "0.5,0.5\n",
      "0.43333333333333335,0.8333333333333334\n",
      "-0.07142857142857144,0.6452380952380952\n",
      "0.26666666666666666,0.41666666666666663\n",
      "0.7,0.6000000000000001\n",
      "0.0,0.0\n",
      "0.69,1.0\n",
      "0.5,0.5\n",
      "0.25,0.5\n",
      "0.9099999999999999,0.7800000000000001\n",
      "0.7,0.6000000000000001\n",
      "0.0,0.0\n",
      "0.7,0.6000000000000001\n",
      "0.0,0.0\n",
      "0.85,0.8\n",
      "0.0,0.0\n",
      "0.0,0.0\n",
      "0.0,0.0\n",
      "0.0,0.0\n",
      "0.0,0.0\n",
      "1.0,0.75\n",
      "0.5,1.0\n",
      "0.0,0.0\n",
      "0.0,0.0\n",
      "0.0,0.0\n",
      "0.10000000000000002,0.3833333333333333\n",
      "0.75,0.4\n",
      "0.4916666666666667,0.7166666666666666\n",
      "0.06818181818181818,0.6272727272727273\n",
      "0.0,0.0\n",
      "0.0,0.0\n",
      "0.0,0.0\n",
      "0.2,0.3\n",
      "0.0,0.0\n",
      "0.1875,0.5\n",
      "0.0,0.0\n",
      "-0.2916666666666667,0.5416666666666666\n",
      "0.7,0.6000000000000001\n",
      "-0.05,0.8500000000000001\n",
      "0.375,0.5\n",
      "0.10000000000000002,0.3833333333333333\n",
      "0.1,0.3\n",
      "0.2,0.3\n",
      "0.0,0.0\n",
      "0.0,0.5\n",
      "0.6,0.9\n",
      "0.27666666666666667,0.24333333333333337\n",
      "-0.05,0.75\n",
      "-0.16666666666666666,0.06666666666666667\n",
      "0.21428571428571427,0.5714285714285714\n",
      "0.0,0.0\n",
      "-0.05,0.8500000000000001\n",
      "0.3,0.7\n",
      "0.415,0.36500000000000005\n",
      "0.4333333333333333,0.7333333333333333\n",
      "0.0,0.0\n",
      "0.37166666666666665,0.4233333333333334\n",
      "0.375,0.5\n",
      "0.0,0.0\n",
      "0.2,0.1\n",
      "0.0,0.0\n",
      "0.7,0.6000000000000001\n",
      "0.0,0.5\n",
      "0.0,0.0\n",
      "0.2,0.2\n",
      "0.0,0.0\n",
      "-0.16666666666666666,0.06666666666666667\n",
      "0.6,1.0\n",
      "0.0,0.0\n",
      "0.7,0.6000000000000001\n",
      "0.0,0.0\n",
      "0.0,0.0\n",
      "0.0,0.0\n",
      "0.5633333333333334,0.9533333333333333\n",
      "0.0,0.0\n",
      "1.0,1.0\n",
      "0.0,0.0\n"
     ]
    }
   ],
   "source": [
    "filepath = \"T1.txt\"\n",
    "with open(filepath) as fp:\n",
    "    line = fp.readline()\n",
    "    cnt = 1\n",
    "    with open('SentimentList.csv', \"w\") as fa:\n",
    "        fa.write(\"Polarity,Subjectivity\\n\")\n",
    "        while line:\n",
    "            data = line.strip()\n",
    "            analysis = TextBlob(data)\n",
    "            countList = list(analysis.sentiment)\n",
    "            \n",
    "            vs = ','.join([str(i) for i in countList])\n",
    "            fa.write(vs + \"\\n\")\n",
    "            print(vs)\n",
    "            line = fp.readline()\n",
    "            cnt += 1"
   ]
  },
  {
   "cell_type": "code",
   "execution_count": null,
   "metadata": {},
   "outputs": [],
   "source": []
  }
 ],
 "metadata": {
  "kernelspec": {
   "display_name": "Python",
   "language": "python",
   "name": "conda-env-python-py"
  },
  "language_info": {
   "codemirror_mode": {
    "name": "ipython",
    "version": 3
   },
   "file_extension": ".py",
   "mimetype": "text/x-python",
   "name": "python",
   "nbconvert_exporter": "python",
   "pygments_lexer": "ipython3",
   "version": "3.6.12"
  }
 },
 "nbformat": 4,
 "nbformat_minor": 4
}
