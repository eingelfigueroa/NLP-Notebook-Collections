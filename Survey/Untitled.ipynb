{
 "cells": [
  {
   "cell_type": "code",
   "execution_count": 1,
   "metadata": {},
   "outputs": [],
   "source": [
    "import pandas as pd\n",
    "import numpy as np"
   ]
  },
  {
   "cell_type": "code",
   "execution_count": 4,
   "metadata": {},
   "outputs": [],
   "source": [
    "new_df = pd.read_csv('Summary_survey.csv')"
   ]
  },
  {
   "cell_type": "code",
   "execution_count": 9,
   "metadata": {},
   "outputs": [
    {
     "name": "stdout",
     "output_type": "stream",
     "text": [
      "Index(['I can easily log-in and log-out my Canvas account.',\n",
      "       'I can easily log-in and log-out my Canvas account. (Please write your views relating your answer above.)',\n",
      "       'I can access my course using the mobile Canvas app. ',\n",
      "       'I can access my course using the mobile Canvas app. (Please write your views about this relating to your answer above.)',\n",
      "       'I can access my course using the mobile Canvas app. .1',\n",
      "       'I can access my course using the mobile Canvas app. (Please write your views about this relating to your answer above.).1',\n",
      "       'I can access my Canvas account using the available computers in JRU.',\n",
      "       'I can access my Canvas account using the available computers in JRU. (Please write your views about this relating to your answer above.)',\n",
      "       'I have no issues accessing my Canvas account using the wired internet connection in the computer laboratories. ',\n",
      "       'I have no issues accessing my Canvas account using the wired internet connection in the computer laboratories. (Please write your views about this relating to your answer above.)',\n",
      "       'I can easily get help when I have problems with my Canvas account.',\n",
      "       'I can easily get help when I have problems with my Canvas account. (Please write your views about this relating to your answer above.)',\n",
      "       'I can access my Canvas account outside JRU. ',\n",
      "       'I can access my Canvas account outside JRU. (Please write your views about this relating to your answer above.)',\n",
      "       'I can clearly understand the lessons on my Canvas modules. ',\n",
      "       'I can clearly understand the lessons on my Canvas modules. (Please write your views about this relating to your answer above.)',\n",
      "       'I recognize that the modules in my course are well organized.',\n",
      "       'I recognize that the modules in my course are well organized. (Please write your views about this relating to your answer above.)',\n",
      "       'I can easily manage the navigation of the courses through the desktop version. ',\n",
      "       'I can easily manage the navigation of the courses through the desktop version. .1',\n",
      "       'I can easily manage the navigation of the courses through the mobile app.',\n",
      "       'I can easily manage the navigation of the courses through the mobile app. (Please write your views about this relating to your answer above.)',\n",
      "       'I notice that course materials on Canvas have connection with the face to face (classroom) lesson content.',\n",
      "       'I notice that course materials on Canvas have connection with the face to face (classroom) lesson content. (Please write your views about this relating to your answer above.)',\n",
      "       'I understand the lessons better with the help of course materials in Canvas. ',\n",
      "       'I understand the lessons better with the help of course materials in Canvas. (Please write your views about this relating to your answer above.)',\n",
      "       'Canvas course materials make me interested.',\n",
      "       'Canvas course materials make me interested. (Please write your views about this relating to your answer above.)',\n",
      "       'The course materials on Canvas helped me prepare for: [Face to Face discussions]',\n",
      "       'The course materials on Canvas helped me prepare for: [Quizzes]',\n",
      "       'The course materials on Canvas helped me prepare for: [Prelim/Mid-term/Final Exam]',\n",
      "       'The course materials on Canvas helped me prepare for: [Other Tasks (Assignments, Forums, etc.)]',\n",
      "       'The course materials on Canvas helped me prepare for: Face to face discussions, quizzes, major exams, assignments, forums, etc. (Please write your views about this relating to your answer above.)',\n",
      "       'My instructor knows how to use Canvas.',\n",
      "       'My instructor knows how to use Canvas. (Please write your views about this relating to your answer above.)',\n",
      "       'My instructor demonstrated mastery of the subject matter.',\n",
      "       'My instructor demonstrated mastery of the subject matter. (Please write your views about this relating to your answer above.)',\n",
      "       'My instructor encourages me to use Canvas.',\n",
      "       'My instructor encourages me to use Canvas. (Please write your views about this relating to your answer above.)',\n",
      "       'Canvas has made it easy for me to: [Communicate with my instructor]',\n",
      "       'Canvas has made it easy for me to: [Receive class announcements]',\n",
      "       'Canvas has made it easy for me to: [Share ideas on group discussions]',\n",
      "       'Canvas has made it easy for me to: communicate with my instructor, receive class announcements, share ideas on group discussions',\n",
      "       'I can answer the assessment materials (quiz, exam) posted in Canvas.',\n",
      "       'I can answer the assessment materials (quiz, exam) posted in Canvas. (Please write your views about this relating to your answer above.)',\n",
      "       'I find the course materials on Canvas aligned with the: [Quizzes]',\n",
      "       'I find the course materials on Canvas aligned with the: [Major (Prelim, Mideterm, Final) Exam]',\n",
      "       'I find the course materials on Canvas aligned with the: [Other tasks (Assignements, Forums, etc.)]',\n",
      "       'I find the course materials on Canvas aligned with the: quizzes, major exams, assignments, forums, etc.) (Please write your views about this relating to your answer above.)',\n",
      "       'I have been give enough time to accomplish the activities on Canvas.',\n",
      "       'I have been give enough time to accomplish the activities on Canvas. (Please write your views about this relating to your answer above.)',\n",
      "       'What I like best in Canvas is/are:',\n",
      "       'What I like least in Canvas is/are:', 'I would like to suggest: '],\n",
      "      dtype='object')\n"
     ]
    }
   ],
   "source": [
    "col = new_df.drop(new_df.columns[[0,1,2]], axis=1)\n",
    "print(col.columns)"
   ]
  },
  {
   "cell_type": "code",
   "execution_count": null,
   "metadata": {},
   "outputs": [],
   "source": []
  }
 ],
 "metadata": {
  "kernelspec": {
   "display_name": "Python",
   "language": "python",
   "name": "conda-env-python-py"
  },
  "language_info": {
   "codemirror_mode": {
    "name": "ipython",
    "version": 3
   },
   "file_extension": ".py",
   "mimetype": "text/x-python",
   "name": "python",
   "nbconvert_exporter": "python",
   "pygments_lexer": "ipython3",
   "version": "3.6.12"
  }
 },
 "nbformat": 4,
 "nbformat_minor": 4
}
