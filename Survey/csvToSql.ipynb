{
 "cells": [
  {
   "cell_type": "markdown",
   "metadata": {},
   "source": [
    "## Manipulate CSV Data to be compatible with SQL"
   ]
  },
  {
   "cell_type": "markdown",
   "metadata": {},
   "source": [
    "#### Get data from summary_survey.csv and input to opinion and likert\n",
    "#### Then import to SQL manipulated CSV"
   ]
  },
  {
   "cell_type": "code",
   "execution_count": 33,
   "metadata": {},
   "outputs": [],
   "source": [
    "import pandas as pd"
   ]
  },
  {
   "cell_type": "code",
   "execution_count": 44,
   "metadata": {},
   "outputs": [],
   "source": [
    "df = pd.read_csv('new_likert_survey.csv')\n",
    "time = pd.read_csv('Summary_survey.csv')\n",
    "\n"
   ]
  },
  {
   "cell_type": "code",
   "execution_count": 45,
   "metadata": {},
   "outputs": [],
   "source": [
    "ID = []\n",
    "\n",
    "for i in range(1,141):\n",
    "    ID.append(i)"
   ]
  },
  {
   "cell_type": "code",
   "execution_count": 46,
   "metadata": {},
   "outputs": [],
   "source": [
    "timestamp = time.iloc[0:,2:3].values"
   ]
  },
  {
   "cell_type": "code",
   "execution_count": 47,
   "metadata": {},
   "outputs": [],
   "source": [
    "df.insert(0,\"ID\",ID)\n",
    "df.insert(1,\"user_id\",ID)\n",
    "df.insert(3,\"timestamp\",timestamp)"
   ]
  },
  {
   "cell_type": "code",
   "execution_count": 49,
   "metadata": {},
   "outputs": [
    {
     "data": {
      "text/html": [
       "<div>\n",
       "<style scoped>\n",
       "    .dataframe tbody tr th:only-of-type {\n",
       "        vertical-align: middle;\n",
       "    }\n",
       "\n",
       "    .dataframe tbody tr th {\n",
       "        vertical-align: top;\n",
       "    }\n",
       "\n",
       "    .dataframe thead th {\n",
       "        text-align: right;\n",
       "    }\n",
       "</style>\n",
       "<table border=\"1\" class=\"dataframe\">\n",
       "  <thead>\n",
       "    <tr style=\"text-align: right;\">\n",
       "      <th></th>\n",
       "      <th>Subject</th>\n",
       "      <th>I can easily log-in and log-out my Canvas account. (Please write your views relating your answer above.)</th>\n",
       "      <th>I can access my course using the mobile Canvas app. (Please write your views about this relating to your answer above.)</th>\n",
       "      <th>I can access my Canvas account using the available computers in JRU. (Please write your views about this relating to your answer above.)</th>\n",
       "      <th>I have no issues accessing my Canvas account using the wired internet connection in the computer laboratories. (Please write your views about this relating to your answer above.)</th>\n",
       "      <th>I can easily get help when I have problems with my Canvas account. (Please write your views about this relating to your answer above.)</th>\n",
       "      <th>I can access my Canvas account outside JRU. (Please write your views about this relating to your answer above.)</th>\n",
       "      <th>I can clearly understand the lessons on my Canvas modules. (Please write your views about this relating to your answer above.)</th>\n",
       "      <th>I recognize that the modules in my course are well organized. (Please write your views about this relating to your answer above.)</th>\n",
       "      <th>I can easily manage the navigation of the courses through the desktop version. .1</th>\n",
       "      <th>...</th>\n",
       "      <th>I understand the lessons better with the help of course materials in Canvas. (Please write your views about this relating to your answer above.)</th>\n",
       "      <th>Canvas course materials make me interested. (Please write your views about this relating to your answer above.)</th>\n",
       "      <th>The course materials on Canvas helped me prepare for: Face to face discussions, quizzes, major exams, assignments, forums, etc. (Please write your views about this relating to your answer above.)</th>\n",
       "      <th>My instructor knows how to use Canvas. (Please write your views about this relating to your answer above.)</th>\n",
       "      <th>My instructor demonstrated mastery of the subject matter. (Please write your views about this relating to your answer above.)</th>\n",
       "      <th>My instructor encourages me to use Canvas. (Please write your views about this relating to your answer above.)</th>\n",
       "      <th>Canvas has made it easy for me to: communicate with my instructor, receive class announcements, share ideas on group discussions</th>\n",
       "      <th>I can answer the assessment materials (quiz, exam) posted in Canvas. (Please write your views about this relating to your answer above.)</th>\n",
       "      <th>I find the course materials on Canvas aligned with the: quizzes, major exams, assignments, forums, etc.) (Please write your views about this relating to your answer above.)</th>\n",
       "      <th>I have been give enough time to accomplish the activities on Canvas. (Please write your views about this relating to your answer above.)</th>\n",
       "    </tr>\n",
       "  </thead>\n",
       "  <tbody>\n",
       "    <tr>\n",
       "      <th>0</th>\n",
       "      <td>HIS C101- Readings in Philippine History</td>\n",
       "      <td>i can</td>\n",
       "      <td>i can</td>\n",
       "      <td>i can</td>\n",
       "      <td>i can</td>\n",
       "      <td>i can</td>\n",
       "      <td>i can</td>\n",
       "      <td>i can</td>\n",
       "      <td>i can</td>\n",
       "      <td>i can</td>\n",
       "      <td>...</td>\n",
       "      <td>i can</td>\n",
       "      <td>i can</td>\n",
       "      <td>i can</td>\n",
       "      <td>i can</td>\n",
       "      <td>i can</td>\n",
       "      <td>i can</td>\n",
       "      <td>i can</td>\n",
       "      <td>i can</td>\n",
       "      <td>i can</td>\n",
       "      <td>-</td>\n",
       "    </tr>\n",
       "    <tr>\n",
       "      <th>1</th>\n",
       "      <td>HIS C101- Readings in Philippine History</td>\n",
       "      <td>i have no problems in log in</td>\n",
       "      <td>i have no problem</td>\n",
       "      <td>i have no problem</td>\n",
       "      <td>i have no problem</td>\n",
       "      <td>i have no problem</td>\n",
       "      <td>i have no problem</td>\n",
       "      <td>i have no problem</td>\n",
       "      <td>i have no problem</td>\n",
       "      <td>i have no problem</td>\n",
       "      <td>...</td>\n",
       "      <td>i have no problem</td>\n",
       "      <td>i have no problem</td>\n",
       "      <td>i have no problem</td>\n",
       "      <td>i have no problem</td>\n",
       "      <td>i have no problem</td>\n",
       "      <td>i have no problem</td>\n",
       "      <td>i have no problem</td>\n",
       "      <td>i have no problem</td>\n",
       "      <td>i have no problem</td>\n",
       "      <td>i have no problem</td>\n",
       "    </tr>\n",
       "    <tr>\n",
       "      <th>2</th>\n",
       "      <td>HIS C101- Readings in Philippine History</td>\n",
       "      <td>I have no problems with it</td>\n",
       "      <td>I have no problems with it</td>\n",
       "      <td>I have no problems with it</td>\n",
       "      <td>I have no problems with it</td>\n",
       "      <td>I have no problems with it</td>\n",
       "      <td>I have no problems with it</td>\n",
       "      <td>I have no problems with it</td>\n",
       "      <td>I have no problems with it</td>\n",
       "      <td>I have no problems with it</td>\n",
       "      <td>...</td>\n",
       "      <td>I have no problems with it</td>\n",
       "      <td>I have no problems with it</td>\n",
       "      <td>I have no problems with it</td>\n",
       "      <td>I have no problems with it</td>\n",
       "      <td>I have no problems with it</td>\n",
       "      <td>I have no problems with it</td>\n",
       "      <td>I have no problems with it</td>\n",
       "      <td>I have no problems with it</td>\n",
       "      <td>I have no problems with it</td>\n",
       "      <td>Yes, I have no problems with it</td>\n",
       "    </tr>\n",
       "    <tr>\n",
       "      <th>3</th>\n",
       "      <td>HIS C101- Readings in Philippine History</td>\n",
       "      <td>i dont have problem in my canvas</td>\n",
       "      <td>i can easily login my canvas app in my mobile app</td>\n",
       "      <td>I can access my Canvas account using the avail...</td>\n",
       "      <td>i dont have problem in internet connection</td>\n",
       "      <td>i dont have problem with it</td>\n",
       "      <td>i dont have problem with it</td>\n",
       "      <td>i dont have problem with it</td>\n",
       "      <td>i dont have problem with it</td>\n",
       "      <td>i dont have problem with it</td>\n",
       "      <td>...</td>\n",
       "      <td>i dont have problem with it</td>\n",
       "      <td>i dont have problem with it</td>\n",
       "      <td>i dont have problem with it</td>\n",
       "      <td>i dont have problem with it</td>\n",
       "      <td>i dont have problem with it</td>\n",
       "      <td>i dont have problem with it</td>\n",
       "      <td>i dont have problem with it</td>\n",
       "      <td>i dont have problem with it</td>\n",
       "      <td>i dont have problem with it</td>\n",
       "      <td>i dont have problem with it</td>\n",
       "    </tr>\n",
       "    <tr>\n",
       "      <th>4</th>\n",
       "      <td>HIS C101- Readings in Philippine History</td>\n",
       "      <td>i have no problems</td>\n",
       "      <td>i can access my course</td>\n",
       "      <td>no problem in accessing my canvas</td>\n",
       "      <td>dont have issue</td>\n",
       "      <td>no problem with</td>\n",
       "      <td>no problem</td>\n",
       "      <td>i understand</td>\n",
       "      <td>easy to recognize</td>\n",
       "      <td>i can manage</td>\n",
       "      <td>...</td>\n",
       "      <td>i understand the lesson</td>\n",
       "      <td>im interested</td>\n",
       "      <td>the course materials helped me</td>\n",
       "      <td>yes she teach us how</td>\n",
       "      <td>yes she demonstrate</td>\n",
       "      <td>she encourage me</td>\n",
       "      <td>i can communicate easy</td>\n",
       "      <td>i have no problem with it</td>\n",
       "      <td>i have no problem with it</td>\n",
       "      <td>i have no problem with it</td>\n",
       "    </tr>\n",
       "  </tbody>\n",
       "</table>\n",
       "<p>5 rows × 22 columns</p>\n",
       "</div>"
      ],
      "text/plain": [
       "                                    Subject  \\\n",
       "0  HIS C101- Readings in Philippine History   \n",
       "1  HIS C101- Readings in Philippine History   \n",
       "2  HIS C101- Readings in Philippine History   \n",
       "3  HIS C101- Readings in Philippine History   \n",
       "4  HIS C101- Readings in Philippine History   \n",
       "\n",
       "  I can easily log-in and log-out my Canvas account. (Please write your views relating your answer above.)  \\\n",
       "0                                              i can                                                         \n",
       "1                      i have no problems in log in                                                          \n",
       "2                         I have no problems with it                                                         \n",
       "3                   i dont have problem in my canvas                                                         \n",
       "4                                 i have no problems                                                         \n",
       "\n",
       "  I can access my course using the mobile Canvas app. (Please write your views about this relating to your answer above.)  \\\n",
       "0                                              i can                                                                        \n",
       "1                                  i have no problem                                                                        \n",
       "2                        I have no problems with it                                                                         \n",
       "3  i can easily login my canvas app in my mobile app                                                                        \n",
       "4                             i can access my course                                                                        \n",
       "\n",
       "  I can access my Canvas account using the available computers in JRU. (Please write your views about this relating to your answer above.)  \\\n",
       "0                                              i can                                                                                         \n",
       "1                                  i have no problem                                                                                         \n",
       "2                        I have no problems with it                                                                                          \n",
       "3  I can access my Canvas account using the avail...                                                                                         \n",
       "4                  no problem in accessing my canvas                                                                                         \n",
       "\n",
       "  I have no issues accessing my Canvas account using the wired internet connection in the computer laboratories. (Please write your views about this relating to your answer above.)  \\\n",
       "0                                              i can                                                                                                                                   \n",
       "1                                  i have no problem                                                                                                                                   \n",
       "2                         I have no problems with it                                                                                                                                   \n",
       "3         i dont have problem in internet connection                                                                                                                                   \n",
       "4                                    dont have issue                                                                                                                                   \n",
       "\n",
       "  I can easily get help when I have problems with my Canvas account. (Please write your views about this relating to your answer above.)  \\\n",
       "0                                              i can                                                                                       \n",
       "1                                  i have no problem                                                                                       \n",
       "2                         I have no problems with it                                                                                       \n",
       "3                        i dont have problem with it                                                                                       \n",
       "4                                   no problem with                                                                                        \n",
       "\n",
       "  I can access my Canvas account outside JRU. (Please write your views about this relating to your answer above.)  \\\n",
       "0                                              i can                                                                \n",
       "1                                  i have no problem                                                                \n",
       "2                         I have no problems with it                                                                \n",
       "3                        i dont have problem with it                                                                \n",
       "4                                         no problem                                                                \n",
       "\n",
       "  I can clearly understand the lessons on my Canvas modules. (Please write your views about this relating to your answer above.)  \\\n",
       "0                                              i can                                                                               \n",
       "1                                  i have no problem                                                                               \n",
       "2                         I have no problems with it                                                                               \n",
       "3                        i dont have problem with it                                                                               \n",
       "4                                       i understand                                                                               \n",
       "\n",
       "  I recognize that the modules in my course are well organized. (Please write your views about this relating to your answer above.)  \\\n",
       "0                                              i can                                                                                  \n",
       "1                                  i have no problem                                                                                  \n",
       "2                         I have no problems with it                                                                                  \n",
       "3                        i dont have problem with it                                                                                  \n",
       "4                                  easy to recognize                                                                                  \n",
       "\n",
       "  I can easily manage the navigation of the courses through the desktop version. .1  \\\n",
       "0                                              i can                                  \n",
       "1                                  i have no problem                                  \n",
       "2                         I have no problems with it                                  \n",
       "3                        i dont have problem with it                                  \n",
       "4                                       i can manage                                  \n",
       "\n",
       "   ...  \\\n",
       "0  ...   \n",
       "1  ...   \n",
       "2  ...   \n",
       "3  ...   \n",
       "4  ...   \n",
       "\n",
       "  I understand the lessons better with the help of course materials in Canvas. (Please write your views about this relating to your answer above.)  \\\n",
       "0                                              i can                                                                                                 \n",
       "1                                  i have no problem                                                                                                 \n",
       "2                         I have no problems with it                                                                                                 \n",
       "3                        i dont have problem with it                                                                                                 \n",
       "4                            i understand the lesson                                                                                                 \n",
       "\n",
       "  Canvas course materials make me interested. (Please write your views about this relating to your answer above.)  \\\n",
       "0                                              i can                                                                \n",
       "1                                  i have no problem                                                                \n",
       "2                         I have no problems with it                                                                \n",
       "3                        i dont have problem with it                                                                \n",
       "4                                      im interested                                                                \n",
       "\n",
       "  The course materials on Canvas helped me prepare for: Face to face discussions, quizzes, major exams, assignments, forums, etc. (Please write your views about this relating to your answer above.)  \\\n",
       "0                                              i can                                                                                                                                                    \n",
       "1                                  i have no problem                                                                                                                                                    \n",
       "2                         I have no problems with it                                                                                                                                                    \n",
       "3                        i dont have problem with it                                                                                                                                                    \n",
       "4                     the course materials helped me                                                                                                                                                    \n",
       "\n",
       "  My instructor knows how to use Canvas. (Please write your views about this relating to your answer above.)  \\\n",
       "0                                              i can                                                           \n",
       "1                                  i have no problem                                                           \n",
       "2                         I have no problems with it                                                           \n",
       "3                        i dont have problem with it                                                           \n",
       "4                               yes she teach us how                                                           \n",
       "\n",
       "  My instructor demonstrated mastery of the subject matter. (Please write your views about this relating to your answer above.)  \\\n",
       "0                                              i can                                                                              \n",
       "1                                  i have no problem                                                                              \n",
       "2                         I have no problems with it                                                                              \n",
       "3                        i dont have problem with it                                                                              \n",
       "4                                yes she demonstrate                                                                              \n",
       "\n",
       "  My instructor encourages me to use Canvas. (Please write your views about this relating to your answer above.)  \\\n",
       "0                                              i can                                                               \n",
       "1                                  i have no problem                                                               \n",
       "2                         I have no problems with it                                                               \n",
       "3                        i dont have problem with it                                                               \n",
       "4                                   she encourage me                                                               \n",
       "\n",
       "  Canvas has made it easy for me to: communicate with my instructor, receive class announcements, share ideas on group discussions  \\\n",
       "0                                              i can                                                                                 \n",
       "1                                  i have no problem                                                                                 \n",
       "2                         I have no problems with it                                                                                 \n",
       "3                        i dont have problem with it                                                                                 \n",
       "4                             i can communicate easy                                                                                 \n",
       "\n",
       "  I can answer the assessment materials (quiz, exam) posted in Canvas. (Please write your views about this relating to your answer above.)  \\\n",
       "0                                              i can                                                                                         \n",
       "1                                  i have no problem                                                                                         \n",
       "2                         I have no problems with it                                                                                         \n",
       "3                        i dont have problem with it                                                                                         \n",
       "4                          i have no problem with it                                                                                         \n",
       "\n",
       "  I find the course materials on Canvas aligned with the: quizzes, major exams, assignments, forums, etc.) (Please write your views about this relating to your answer above.)  \\\n",
       "0                                              i can                                                                                                                             \n",
       "1                                  i have no problem                                                                                                                             \n",
       "2                         I have no problems with it                                                                                                                             \n",
       "3                        i dont have problem with it                                                                                                                             \n",
       "4                          i have no problem with it                                                                                                                             \n",
       "\n",
       "  I have been give enough time to accomplish the activities on Canvas. (Please write your views about this relating to your answer above.)  \n",
       "0                                                  -                                                                                        \n",
       "1                                  i have no problem                                                                                        \n",
       "2                    Yes, I have no problems with it                                                                                        \n",
       "3                        i dont have problem with it                                                                                        \n",
       "4                          i have no problem with it                                                                                        \n",
       "\n",
       "[5 rows x 22 columns]"
      ]
     },
     "execution_count": 49,
     "metadata": {},
     "output_type": "execute_result"
    }
   ],
   "source": [
    "df_opinion = pd.read_csv('new_opinion_survey.csv')\n",
    "df_opinion = df_opinion.drop(columns=['Name'],axis=1)\n",
    "df_opinion.head()"
   ]
  },
  {
   "cell_type": "code",
   "execution_count": 51,
   "metadata": {},
   "outputs": [
    {
     "ename": "ValueError",
     "evalue": "cannot insert ID, already exists",
     "output_type": "error",
     "traceback": [
      "\u001b[0;31m---------------------------------------------------------------------------\u001b[0m",
      "\u001b[0;31mValueError\u001b[0m                                Traceback (most recent call last)",
      "\u001b[0;32m<ipython-input-51-3819098a121d>\u001b[0m in \u001b[0;36m<module>\u001b[0;34m\u001b[0m\n\u001b[0;32m----> 1\u001b[0;31m \u001b[0mdf_opinion\u001b[0m\u001b[0;34m.\u001b[0m\u001b[0minsert\u001b[0m\u001b[0;34m(\u001b[0m\u001b[0;36m0\u001b[0m\u001b[0;34m,\u001b[0m\u001b[0;34m\"ID\"\u001b[0m\u001b[0;34m,\u001b[0m\u001b[0mID\u001b[0m\u001b[0;34m)\u001b[0m\u001b[0;34m\u001b[0m\u001b[0;34m\u001b[0m\u001b[0m\n\u001b[0m\u001b[1;32m      2\u001b[0m \u001b[0mdf_opinion\u001b[0m\u001b[0;34m.\u001b[0m\u001b[0minsert\u001b[0m\u001b[0;34m(\u001b[0m\u001b[0;36m1\u001b[0m\u001b[0;34m,\u001b[0m\u001b[0;34m\"user_id\"\u001b[0m\u001b[0;34m,\u001b[0m\u001b[0mID\u001b[0m\u001b[0;34m)\u001b[0m\u001b[0;34m\u001b[0m\u001b[0;34m\u001b[0m\u001b[0m\n\u001b[1;32m      3\u001b[0m \u001b[0mdf_opinion\u001b[0m\u001b[0;34m.\u001b[0m\u001b[0minsert\u001b[0m\u001b[0;34m(\u001b[0m\u001b[0;36m3\u001b[0m\u001b[0;34m,\u001b[0m\u001b[0;34m\"timestamp\"\u001b[0m\u001b[0;34m,\u001b[0m\u001b[0mtimestamp\u001b[0m\u001b[0;34m)\u001b[0m\u001b[0;34m\u001b[0m\u001b[0;34m\u001b[0m\u001b[0m\n\u001b[1;32m      4\u001b[0m \u001b[0;34m\u001b[0m\u001b[0m\n\u001b[1;32m      5\u001b[0m \u001b[0mdf\u001b[0m\u001b[0;34m\u001b[0m\u001b[0;34m\u001b[0m\u001b[0m\n",
      "\u001b[0;32m~/conda/envs/python/lib/python3.6/site-packages/pandas/core/frame.py\u001b[0m in \u001b[0;36minsert\u001b[0;34m(self, loc, column, value, allow_duplicates)\u001b[0m\n\u001b[1;32m   3626\u001b[0m         \u001b[0mself\u001b[0m\u001b[0;34m.\u001b[0m\u001b[0m_ensure_valid_index\u001b[0m\u001b[0;34m(\u001b[0m\u001b[0mvalue\u001b[0m\u001b[0;34m)\u001b[0m\u001b[0;34m\u001b[0m\u001b[0;34m\u001b[0m\u001b[0m\n\u001b[1;32m   3627\u001b[0m         \u001b[0mvalue\u001b[0m \u001b[0;34m=\u001b[0m \u001b[0mself\u001b[0m\u001b[0;34m.\u001b[0m\u001b[0m_sanitize_column\u001b[0m\u001b[0;34m(\u001b[0m\u001b[0mcolumn\u001b[0m\u001b[0;34m,\u001b[0m \u001b[0mvalue\u001b[0m\u001b[0;34m,\u001b[0m \u001b[0mbroadcast\u001b[0m\u001b[0;34m=\u001b[0m\u001b[0;32mFalse\u001b[0m\u001b[0;34m)\u001b[0m\u001b[0;34m\u001b[0m\u001b[0;34m\u001b[0m\u001b[0m\n\u001b[0;32m-> 3628\u001b[0;31m         \u001b[0mself\u001b[0m\u001b[0;34m.\u001b[0m\u001b[0m_mgr\u001b[0m\u001b[0;34m.\u001b[0m\u001b[0minsert\u001b[0m\u001b[0;34m(\u001b[0m\u001b[0mloc\u001b[0m\u001b[0;34m,\u001b[0m \u001b[0mcolumn\u001b[0m\u001b[0;34m,\u001b[0m \u001b[0mvalue\u001b[0m\u001b[0;34m,\u001b[0m \u001b[0mallow_duplicates\u001b[0m\u001b[0;34m=\u001b[0m\u001b[0mallow_duplicates\u001b[0m\u001b[0;34m)\u001b[0m\u001b[0;34m\u001b[0m\u001b[0;34m\u001b[0m\u001b[0m\n\u001b[0m\u001b[1;32m   3629\u001b[0m \u001b[0;34m\u001b[0m\u001b[0m\n\u001b[1;32m   3630\u001b[0m     \u001b[0;32mdef\u001b[0m \u001b[0massign\u001b[0m\u001b[0;34m(\u001b[0m\u001b[0mself\u001b[0m\u001b[0;34m,\u001b[0m \u001b[0;34m**\u001b[0m\u001b[0mkwargs\u001b[0m\u001b[0;34m)\u001b[0m \u001b[0;34m->\u001b[0m \u001b[0;34m\"DataFrame\"\u001b[0m\u001b[0;34m:\u001b[0m\u001b[0;34m\u001b[0m\u001b[0;34m\u001b[0m\u001b[0m\n",
      "\u001b[0;32m~/conda/envs/python/lib/python3.6/site-packages/pandas/core/internals/managers.py\u001b[0m in \u001b[0;36minsert\u001b[0;34m(self, loc, item, value, allow_duplicates)\u001b[0m\n\u001b[1;32m   1184\u001b[0m         \u001b[0;32mif\u001b[0m \u001b[0;32mnot\u001b[0m \u001b[0mallow_duplicates\u001b[0m \u001b[0;32mand\u001b[0m \u001b[0mitem\u001b[0m \u001b[0;32min\u001b[0m \u001b[0mself\u001b[0m\u001b[0;34m.\u001b[0m\u001b[0mitems\u001b[0m\u001b[0;34m:\u001b[0m\u001b[0;34m\u001b[0m\u001b[0;34m\u001b[0m\u001b[0m\n\u001b[1;32m   1185\u001b[0m             \u001b[0;31m# Should this be a different kind of error??\u001b[0m\u001b[0;34m\u001b[0m\u001b[0;34m\u001b[0m\u001b[0;34m\u001b[0m\u001b[0m\n\u001b[0;32m-> 1186\u001b[0;31m             \u001b[0;32mraise\u001b[0m \u001b[0mValueError\u001b[0m\u001b[0;34m(\u001b[0m\u001b[0;34mf\"cannot insert {item}, already exists\"\u001b[0m\u001b[0;34m)\u001b[0m\u001b[0;34m\u001b[0m\u001b[0;34m\u001b[0m\u001b[0m\n\u001b[0m\u001b[1;32m   1187\u001b[0m \u001b[0;34m\u001b[0m\u001b[0m\n\u001b[1;32m   1188\u001b[0m         \u001b[0;32mif\u001b[0m \u001b[0;32mnot\u001b[0m \u001b[0misinstance\u001b[0m\u001b[0;34m(\u001b[0m\u001b[0mloc\u001b[0m\u001b[0;34m,\u001b[0m \u001b[0mint\u001b[0m\u001b[0;34m)\u001b[0m\u001b[0;34m:\u001b[0m\u001b[0;34m\u001b[0m\u001b[0;34m\u001b[0m\u001b[0m\n",
      "\u001b[0;31mValueError\u001b[0m: cannot insert ID, already exists"
     ]
    }
   ],
   "source": [
    "df_opinion.insert(0,\"ID\",ID)\n",
    "df_opinion.insert(1,\"user_id\",ID)\n",
    "df_opinion.insert(3,\"timestamp\",timestamp)\n",
    "\n"
   ]
  },
  {
   "cell_type": "code",
   "execution_count": 53,
   "metadata": {},
   "outputs": [],
   "source": [
    "df.to_csv('final_likert_survey.csv',index=False)\n",
    "df_opinion.to_csv('final_opinion.csv',index=False)"
   ]
  },
  {
   "cell_type": "code",
   "execution_count": 65,
   "metadata": {},
   "outputs": [
    {
     "data": {
      "text/plain": [
       "'id,user_id,course_name,timestamp,a1,a2,a3,a4,a5,a6,a7,a8,a9,a10,a11,a12,a13,a14,a15,a16,a17,i1,i2,i3,ac1'"
      ]
     },
     "execution_count": 65,
     "metadata": {},
     "output_type": "execute_result"
    }
   ],
   "source": [
    "col = 'id user_id course_name timestamp a1 a2 a3 a4 a5 a6 a7 a8 a9 a10 a11 a12 a13 a14 a15 a16 a17 i1 i2 i3 ac1'\n",
    "col = col.replace(\" \",\",\")\n",
    "c"
   ]
  },
  {
   "cell_type": "code",
   "execution_count": 56,
   "metadata": {},
   "outputs": [
    {
     "data": {
      "text/plain": [
       "'id,user_id,course_name,timestamp,a1,a2,a3,a4,a5,a6,a7,a8,a9,a10,a11,a12,a13,a14,i1,i2,i3,ac1,ac2,ac3,ac4'"
      ]
     },
     "execution_count": 56,
     "metadata": {},
     "output_type": "execute_result"
    }
   ],
   "source": [
    "col = 'id user_id course_name timestamp a1 a2 a3 a4 a5 a6 a7 a8 a9 a10 a11 a12 a13 a14 i1 i2 i3 ac1 ac2 ac3 ac4'\n",
    "col = col.replace(\" \",\",\")\n",
    "col"
   ]
  },
  {
   "cell_type": "code",
   "execution_count": 67,
   "metadata": {},
   "outputs": [
    {
     "data": {
      "text/plain": [
       "32"
      ]
     },
     "execution_count": 67,
     "metadata": {},
     "output_type": "execute_result"
    }
   ],
   "source": [
    "len(df.columns)"
   ]
  },
  {
   "cell_type": "code",
   "execution_count": null,
   "metadata": {},
   "outputs": [],
   "source": []
  }
 ],
 "metadata": {
  "kernelspec": {
   "display_name": "Python",
   "language": "python",
   "name": "conda-env-python-py"
  },
  "language_info": {
   "codemirror_mode": {
    "name": "ipython",
    "version": 3
   },
   "file_extension": ".py",
   "mimetype": "text/x-python",
   "name": "python",
   "nbconvert_exporter": "python",
   "pygments_lexer": "ipython3",
   "version": "3.6.12"
  }
 },
 "nbformat": 4,
 "nbformat_minor": 4
}
